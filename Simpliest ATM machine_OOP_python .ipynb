{
  "nbformat": 4,
  "nbformat_minor": 0,
  "metadata": {
    "colab": {
      "provenance": []
    },
    "kernelspec": {
      "name": "python3",
      "display_name": "Python 3"
    },
    "language_info": {
      "name": "python"
    }
  },
  "cells": [
    {
      "cell_type": "code",
      "execution_count": 3,
      "metadata": {
        "id": "ECzPUHu_eRFR"
      },
      "outputs": [],
      "source": [
        "#creating a class \n",
        "class Atm:\n",
        "\n",
        "  #constructor mathod\n",
        "  def __init__(self):\n",
        "\n",
        "    self.pin = ''\n",
        "    self.balance = 0\n",
        "    self.menu()\n",
        "\n",
        "  #menu function\n",
        "  def menu(self):\n",
        "    user_input= input(\"\"\"\n",
        "        Hello, How can I help you?\n",
        "        1.press 1 to create a pin\n",
        "        2.press 2 to change pin\n",
        "        3.press 3 to check balnce \n",
        "        4.press 4 to withdraw money\n",
        "        5.anything else to exit\n",
        "        \n",
        "        \"\"\")\n",
        "    \n",
        "    #different different options\n",
        "    if user_input == '1':\n",
        "      self.create_pin()\n",
        "    elif user_input == '2':\n",
        "      self.change_pin()\n",
        "    elif user_input == '3':\n",
        "      self.check_balance()\n",
        "    elif user_input == '4':\n",
        "      self.withdrawal()\n",
        "    else:\n",
        "      exit()\n",
        "\n",
        "\n",
        "  #create pin fucntion\n",
        "  def create_pin(self):\n",
        "    enter_pin = int(input('enter a pin'))\n",
        "    self.pin = enter_pin\n",
        "\n",
        "    #input balance \n",
        "    user_balance = int(input('Input balance'))\n",
        "    self.balance = user_balance\n",
        "\n",
        "    print('pin created successfully')\n",
        "    self.menu()\n",
        "\n",
        "  #pin change function\n",
        "  def change_pin(self):\n",
        "    old_pin = int(input('enter old pin'))\n",
        "    if old_pin == self.pin:\n",
        "      new_pin = int(input('enter new pin'))\n",
        "      print('pin change success')\n",
        "    else:\n",
        "      print('pin did not match')\n",
        "    self.menu()\n",
        "\n",
        "    #checking balance function\n",
        "  def check_balance(self):\n",
        "    user_pin = int(input('enter pin'))\n",
        "    if user_pin == self.pin:\n",
        "      print('your current balance is: ',self.balance)\n",
        "    else:\n",
        "      print('sorry! pin did not matched')\n",
        "      self.menu()\n",
        "  \n",
        "  #money withdrawal function\n",
        "  def withdrawal(self):\n",
        "    user_input = int(input('enter your pin'))\n",
        "    if user_input == self.pin:\n",
        "      amount = int(input('enter amount'))\n",
        "      if amount<= self.balance:\n",
        "        self.balance = self.balance - amount\n",
        "        print('your current balance is: ', self.balance)\n",
        "      else:\n",
        "        print('sorry! your current balance is lower than', amount)\n",
        "        #self.menu()\n",
        "\n",
        "    else:\n",
        "      print('try again')\n",
        "      self.menu()\n",
        "\n",
        "  \n"
      ]
    },
    {
      "cell_type": "code",
      "source": [
        "obj = Atm()"
      ],
      "metadata": {
        "colab": {
          "base_uri": "https://localhost:8080/"
        },
        "id": "gHvVSIP9eTtH",
        "outputId": "56dc5636-ac8f-4271-e10a-b440c7380dc9"
      },
      "execution_count": 2,
      "outputs": [
        {
          "output_type": "stream",
          "name": "stdout",
          "text": [
            "\n",
            "        Hello, How can I help you?\n",
            "        1.press 1 to create a pin\n",
            "        2.press 2 to change pin\n",
            "        3.press 3 to check balnce \n",
            "        4.press 4 to withdraw money\n",
            "        5.anything else to exit\n",
            "        \n",
            "        3\n",
            "enter pin1234\n",
            "sorry! pin did not matched\n",
            "\n",
            "        Hello, How can I help you?\n",
            "        1.press 1 to create a pin\n",
            "        2.press 2 to change pin\n",
            "        3.press 3 to check balnce \n",
            "        4.press 4 to withdraw money\n",
            "        5.anything else to exit\n",
            "        \n",
            "        1\n",
            "enter a pin1234\n",
            "Input balance50000\n",
            "pin created successfully\n",
            "\n",
            "        Hello, How can I help you?\n",
            "        1.press 1 to create a pin\n",
            "        2.press 2 to change pin\n",
            "        3.press 3 to check balnce \n",
            "        4.press 4 to withdraw money\n",
            "        5.anything else to exit\n",
            "        \n",
            "        4\n",
            "enter your pin1234\n",
            "enter amount4000\n",
            "your current balance is:  46000\n"
          ]
        }
      ]
    }
  ]
}